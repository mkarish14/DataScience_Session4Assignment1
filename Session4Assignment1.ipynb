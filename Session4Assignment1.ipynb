{
 "cells": [
  {
   "cell_type": "code",
   "execution_count": 3,
   "metadata": {},
   "outputs": [
    {
     "name": "stdout",
     "output_type": "stream",
     "text": [
      "Enter side 1 : 3\n",
      "Enter side 2 : 4\n",
      "Enter side 3 : 5\n",
      "The area of the triangle is 6.00\n"
     ]
    }
   ],
   "source": [
    "#1.1\n",
    "class Shape: #base class\n",
    "    def __init__(self, sides): #initializing sides\n",
    "        self.n = sides\n",
    "        self.listsides = [0 for i in range(sides)]\n",
    "\n",
    "    def readSides(self):  #reading user input\n",
    "        self.listsides = [float(input(\"Enter side \"+str(i+1)+\" : \")) for i in range(self.n)]\n",
    "\n",
    "class Triangle(Shape):\n",
    "    def __init__(self):\n",
    "        Shape.__init__(self,3)\n",
    "\n",
    "    def findAreaTriangle(self): #finding area\n",
    "        a, b, c = self.listsides\n",
    "        s = (a + b + c) / 2     #calculating semi perimeter\n",
    "        area = (s*(s-a)*(s-b)*(s-c)) ** 0.5\n",
    "        print('The area of the triangle is %0.2f' %area) #printing area\n",
    "\n",
    "t = Triangle() \n",
    "t.readSides()\n",
    "t.findAreaTriangle()"
   ]
  },
  {
   "cell_type": "code",
   "execution_count": 4,
   "metadata": {},
   "outputs": [
    {
     "name": "stdout",
     "output_type": "stream",
     "text": [
      "['Tuesday', 'Wednesday', 'Thursday', 'Saturday']\n"
     ]
    }
   ],
   "source": [
    "#1.2 \n",
    "def filter_long_words(liststr,n):\n",
    "    new_list=[]\n",
    "    for str in liststr:\n",
    "        if len(str)>n:\n",
    "            new_list.append(str)\n",
    "    return new_list\n",
    "\n",
    "words = [\"Sunday\",\"Monday\",\"Tuesday\",\"Wednesday\",\"Thursday\",\"Friday\",\"Saturday\",\"Sunday\"]\n",
    "long_words = filter_long_words(words,6) #function call\n",
    "print(long_words) \n"
   ]
  },
  {
   "cell_type": "code",
   "execution_count": 5,
   "metadata": {},
   "outputs": [
    {
     "name": "stdout",
     "output_type": "stream",
     "text": [
      "<map object at 0x0000020DBC032C18>\n",
      "[6, 6, 7, 9, 8, 6, 8]\n"
     ]
    }
   ],
   "source": [
    "#2.1\n",
    "def lenstr(str):\n",
    "  return len(str)\n",
    "\n",
    "x_len = map(lenstr, (\"Sunday\",\"Monday\",\"Tuesday\",\"Wednesday\",\"Thursday\",\"Friday\",\"Saturday\")) #mapping words to lengths\n",
    "\n",
    "print(x_len)\n",
    "\n",
    "#convert the map into a list, for readability:\n",
    "print(list(x_len))"
   ]
  },
  {
   "cell_type": "code",
   "execution_count": 9,
   "metadata": {},
   "outputs": [
    {
     "name": "stdout",
     "output_type": "stream",
     "text": [
      "False\n",
      "True\n"
     ]
    }
   ],
   "source": [
    "#2.2\n",
    "def isvowelchar(ch):\n",
    "    if ch in('a','e','i','o','u'):\n",
    "        return True\n",
    "    else:\n",
    "        return False\n",
    "\n",
    "print(isvowelchar('p'))\n",
    "print(isvowelchar('a'))"
   ]
  },
  {
   "cell_type": "code",
   "execution_count": null,
   "metadata": {
    "collapsed": true
   },
   "outputs": [],
   "source": []
  }
 ],
 "metadata": {
  "kernelspec": {
   "display_name": "Python 3",
   "language": "python",
   "name": "python3"
  },
  "language_info": {
   "codemirror_mode": {
    "name": "ipython",
    "version": 3
   },
   "file_extension": ".py",
   "mimetype": "text/x-python",
   "name": "python",
   "nbconvert_exporter": "python",
   "pygments_lexer": "ipython3",
   "version": "3.6.3"
  }
 },
 "nbformat": 4,
 "nbformat_minor": 2
}
